{
 "cells": [
  {
   "cell_type": "code",
   "execution_count": 3,
   "metadata": {},
   "outputs": [],
   "source": [
    "import twitter\n",
    "import configparser\n",
    "import arrow\n",
    "from ipywidgets import *\n",
    "import ipywidgets as widgets\n",
    "\n",
    "\n",
    "config = configparser.ConfigParser()\n",
    "config.read('twitkeys.ini')\n",
    "\n",
    "api = twitter.Api(consumer_key = config['DEFAULT']['key'],\n",
    "\t\tconsumer_secret = config['DEFAULT']['secret'],\n",
    "\t\taccess_token_key = config['DEFAULT']['token'],\n",
    "\t\taccess_token_secret = config['DEFAULT']['token_secret'],\n",
    "\t\tsleep_on_rate_limit=True)\n",
    "\n",
    "user_me = api.VerifyCredentials()\n",
    "\n",
    "# get IDs of all followed by user\n",
    "def get_following(screen_name=None):\n",
    "    return api.GetFriends(screen_name)\n",
    "\n",
    "def post_time(created_at):\n",
    "    \"\"\"\n",
    "    returns tweet timestamp as arrow object\n",
    "    \"\"\"\n",
    "    format_time = '%a %b %d %H:%M:%S %z %Y'\n",
    "    return arrow.Arrow.strptime(created_at, format_time)\n",
    "    \n",
    "\n",
    "def twitter_time_filter(screen_name=None, **kwargs):\n",
    "    \"\"\"\n",
    "    Returns a list of people followed who have not posted\n",
    "    in a specified length of time.\n",
    "    \n",
    "    Requires at least one time shift\n",
    "    \n",
    "    Accepts the following as kwargs:\n",
    "    screen_name - string(optional) defaults to api key owner\n",
    "    days - int\n",
    "    weeks - int\n",
    "    months - int\n",
    "    years - int\n",
    "    \"\"\"\n",
    "    users = get_following(screen_name)\n",
    "    target_time = arrow.utcnow().shift(**kwargs)\n",
    "    \n",
    "    stale_accounts = [user for user in users if post_time(user.status.created_at) < target_time]\n",
    "    stale_accounts.sort(key=lambda user: post_time(user.status.created_at))\n",
    "    for account in stale_accounts: \n",
    "        print(account.screen_name  + ' - ' + post_time(account.status.created_at).humanize)\n",
    "    return stale_accounts\n",
    "#    for user in users:\n",
    "#        created_at = post_time(user.status.created_at)\n",
    "#        if created_at <= target_time:\n",
    "#            print(user.screen_name + ' - ' + created_at.humanize(granularity='month'))   "
   ]
  },
  {
   "cell_type": "code",
   "execution_count": 5,
   "metadata": {},
   "outputs": [
    {
     "data": {
      "application/vnd.jupyter.widget-view+json": {
       "model_id": "f71a23c0d11543fc966ab6b8e4c386bb",
       "version_major": 2,
       "version_minor": 0
      },
      "text/plain": [
       "interactive(children=(Text(value='', continuous_update=False, description='Screenname: ', placeholder='erikfri…"
      ]
     },
     "metadata": {},
     "output_type": "display_data"
    },
    {
     "data": {
      "text/plain": [
       "<function __main__.twitter_time_filter(screen_name=None, **kwargs)>"
      ]
     },
     "execution_count": 5,
     "metadata": {},
     "output_type": "execute_result"
    }
   ],
   "source": [
    "interact(twitter_time_filter,\n",
    "         screen_name=widgets.Text(value=None,\n",
    "                                  placeholder=user_me.screen_name,\n",
    "                                  description='Screenname: ',\n",
    "                                  continuous_update=False,\n",
    "                                  disabled=False),\n",
    "         months=widgets.IntText(value=-12,\n",
    "                                description='Months: ',\n",
    "                                disabled=False)\n",
    "        )"
   ]
  }
 ],
 "metadata": {
  "kernelspec": {
   "display_name": "Python 3",
   "language": "python",
   "name": "python3"
  },
  "language_info": {
   "codemirror_mode": {
    "name": "ipython",
    "version": 3
   },
   "file_extension": ".py",
   "mimetype": "text/x-python",
   "name": "python",
   "nbconvert_exporter": "python",
   "pygments_lexer": "ipython3",
   "version": "3.7.3"
  }
 },
 "nbformat": 4,
 "nbformat_minor": 2
}
